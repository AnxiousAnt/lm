{
 "cells": [
  {
   "cell_type": "code",
   "execution_count": 1,
   "id": "425b10ab",
   "metadata": {},
   "outputs": [
    {
     "name": "stdout",
     "output_type": "stream",
     "text": [
      "('I love this sandwich', 'This is an amazing place', 'I feel very good about these cheese', 'This is my best work', 'What an awesome view', 'I do not like this restaurant', 'I am tired of this stuff', 'I can’t deal with this', 'He is my sworn enemy', 'My boss is horrible', 'This is an awesome place', 'I do not like the taste of this juice', 'I love to dance', 'I am sick and tired of this place', 'What a great holiday', 'That is a bad locality to stay', 'We will have good fun tomorrow', \"I went to my enemy's house today\") \n",
      "\n",
      " ('pos', 'pos', 'pos', 'pos', 'pos', 'neg', 'neg', 'neg', 'neg', 'neg', 'pos', 'neg', 'pos', 'neg', 'pos', 'neg', 'pos', 'neg')\n",
      "1. Total Instances of Dataset: 18\n",
      "2. Accuracy: 0.7777777777777778\n",
      "3. Recall: 0.75\n",
      "4. Precision: 0.75\n",
      "5. Confusion Matrix:\n",
      "[[4 1]\n",
      " [1 3]]\n"
     ]
    }
   ],
   "source": [
    "from sklearn.model_selection import train_test_split\n",
    "from sklearn.feature_extraction.text import CountVectorizer\n",
    "from sklearn.naive_bayes import MultinomialNB\n",
    "from sklearn.metrics import accuracy_score, precision_score, recall_score, confusion_matrix\n",
    "\n",
    "# Sample data\n",
    "data = [\n",
    "    (\"I love this sandwich\", 'pos'),\n",
    "    (\"This is an amazing place\", 'pos'),\n",
    "    (\"I feel very good about these cheese\", 'pos'),\n",
    "    (\"This is my best work\", 'pos'),\n",
    "    (\"What an awesome view\", 'pos'),\n",
    "    (\"I do not like this restaurant\", 'neg'),\n",
    "    (\"I am tired of this stuff\", 'neg'),\n",
    "    (\"I can’t deal with this\", 'neg'),\n",
    "    (\"He is my sworn enemy\", 'neg'),\n",
    "    (\"My boss is horrible\", 'neg'),\n",
    "    (\"This is an awesome place\", 'pos'),\n",
    "    (\"I do not like the taste of this juice\", 'neg'),\n",
    "    (\"I love to dance\", 'pos'),\n",
    "    (\"I am sick and tired of this place\", 'neg'),\n",
    "    (\"What a great holiday\", 'pos'),\n",
    "    (\"That is a bad locality to stay\", 'neg'),\n",
    "    (\"We will have good fun tomorrow\", 'pos'),\n",
    "    (\"I went to my enemy's house today\", 'neg'),\n",
    "]\n",
    "\n",
    "# Split the data into training and testing sets\n",
    "texts, labels = zip(*data)\n",
    "print(texts, '\\n\\n', labels)\n",
    "X_train, X_test, y_train, y_test = train_test_split(texts, labels, test_size=0.5, random_state=42)\n",
    "\n",
    "# Vectorize the text data\n",
    "vectorizer = CountVectorizer()\n",
    "X_train_vectorized = vectorizer.fit_transform(X_train)\n",
    "X_test_vectorized = vectorizer.transform(X_test)\n",
    "\n",
    "# Train a naive Bayesian classifier\n",
    "classifier = MultinomialNB()\n",
    "classifier.fit(X_train_vectorized, y_train)\n",
    "\n",
    "# Make predictions\n",
    "y_pred = classifier.predict(X_test_vectorized)\n",
    "\n",
    "# Calculate metrics\n",
    "accuracy = accuracy_score(y_test, y_pred)\n",
    "precision = precision_score(y_test, y_pred, pos_label='pos')\n",
    "recall = recall_score(y_test, y_pred, pos_label='pos')\n",
    "conf_matrix = confusion_matrix(y_test, y_pred)\n",
    "\n",
    "# Print the results\n",
    "print(\"1. Total Instances of Dataset:\", len(data))\n",
    "print(\"2. Accuracy:\", accuracy)\n",
    "print(\"3. Recall:\", recall)\n",
    "print(\"4. Precision:\", precision)\n",
    "print(\"5. Confusion Matrix:\")\n",
    "print(conf_matrix)\n"
   ]
  },
  {
   "cell_type": "code",
   "execution_count": null,
   "id": "1ac5c61a",
   "metadata": {},
   "outputs": [],
   "source": []
  }
 ],
 "metadata": {
  "kernelspec": {
   "display_name": "Python 3 (ipykernel)",
   "language": "python",
   "name": "python3"
  },
  "language_info": {
   "codemirror_mode": {
    "name": "ipython",
    "version": 3
   },
   "file_extension": ".py",
   "mimetype": "text/x-python",
   "name": "python",
   "nbconvert_exporter": "python",
   "pygments_lexer": "ipython3",
   "version": "3.11.5"
  }
 },
 "nbformat": 4,
 "nbformat_minor": 5
}
